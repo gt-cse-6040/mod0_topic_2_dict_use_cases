{
 "cells": [
  {
   "cell_type": "markdown",
   "metadata": {
    "slideshow": {
     "slide_type": "slide"
    }
   },
   "source": [
    "# nb1+2 topics #\n",
    "\n",
    "Topics in this note:\n",
    "\n",
    "* Exercise nb1.1.3 — contrasting three methods\n",
    "* Extension: Sparse dot products\n",
    "* Default dictionaries\n",
    "* Notebook 4 sneak-peak (Google Colab)"
   ]
  },
  {
   "cell_type": "markdown",
   "metadata": {
    "slideshow": {
     "slide_type": "slide"
    }
   },
   "source": [
    "## nb1.1.3 — Decompressing a sparse vector ##"
   ]
  },
  {
   "cell_type": "markdown",
   "metadata": {
    "slideshow": {
     "slide_type": "subslide"
    }
   },
   "source": [
    "Consider a sparse vector as defined for problem nb1.1.3. A logical vector of length `n`, which is expected to have many zero elements, is stored using a pair of lists that record only the nonzero values and their indices. These two lists are, in turn, wrapped into a dictionary."
   ]
  },
  {
   "cell_type": "code",
   "execution_count": 1,
   "metadata": {
    "slideshow": {
     "slide_type": "subslide"
    }
   },
   "outputs": [],
   "source": [
    "d = {}\n",
    "d['inds'] = [0,   3,   7,   3,   3,   5, 1]\n",
    "d['vals'] = [1.0, 2.0, 3.0, 4.0, 5.0, 6.0, 7.0]"
   ]
  },
  {
   "cell_type": "markdown",
   "metadata": {
    "slideshow": {
     "slide_type": "fragment"
    }
   },
   "source": [
    "This corresponds to a logical (mathematical) vector, `x_true`, whose elements are:"
   ]
  },
  {
   "cell_type": "code",
   "execution_count": 2,
   "metadata": {
    "slideshow": {
     "slide_type": "fragment"
    }
   },
   "outputs": [],
   "source": [
    "x_true = [1.0, 7.0, 0.0, 11.0, 0.0, 6.0, 0.0, 3.0]"
   ]
  },
  {
   "cell_type": "markdown",
   "metadata": {
    "slideshow": {
     "slide_type": "subslide"
    }
   },
   "source": [
    "Thus, the object `d` is a compact representation of `x_true` when there are many zero components."
   ]
  },
  {
   "cell_type": "markdown",
   "metadata": {
    "slideshow": {
     "slide_type": "fragment"
    }
   },
   "source": [
    "Recall that the task in nb1.1.3 is to decompress `d`, producing `x_true`. A natural method is to construct each element of the output, one at a time. For each output, the method scans the sparse vector and accumulates all matching entries."
   ]
  },
  {
   "cell_type": "code",
   "execution_count": 3,
   "metadata": {
    "slideshow": {
     "slide_type": "subslide"
    }
   },
   "outputs": [],
   "source": [
    "def decomp_i(i, d):\n",
    "    x_i = 0.0\n",
    "    for k, v in zip(d['inds'], d['vals']): # O(m)\n",
    "        if k == i:\n",
    "            x_i += v\n",
    "    return x_i"
   ]
  },
  {
   "cell_type": "code",
   "execution_count": 4,
   "metadata": {
    "slideshow": {
     "slide_type": "subslide"
    }
   },
   "outputs": [],
   "source": [
    "def decomp_i__alt(i, d):\n",
    "    vals_i = [v for k, v in zip(d['inds'], d['vals']) if k == i]\n",
    "    return sum(vals_i)"
   ]
  },
  {
   "cell_type": "code",
   "execution_count": 5,
   "metadata": {
    "slideshow": {
     "slide_type": "subslide"
    }
   },
   "outputs": [
    {
     "name": "stdout",
     "output_type": "stream",
     "text": [
      "[1.0, 7.0, 0.0, 11.0, 0.0, 6.0, 0.0, 3.0]\n"
     ]
    }
   ],
   "source": [
    "def decomp__v0(d, n=None):\n",
    "    # Input is of length `m`\n",
    "    # Output is of length `n`\n",
    "    # If possible, we'd like a method that scales like `O(m + n)`\n",
    "    \n",
    "    if n is None:\n",
    "        n = max(d['inds']) + 1\n",
    "        \n",
    "    x = []\n",
    "    for i in range(n): # O(n)\n",
    "        # build element x[i]\n",
    "        x.append(decomp_i(i, d))\n",
    "    return x\n",
    "\n",
    "x = decomp__v0(d)\n",
    "print(x)\n",
    "assert x == x_true"
   ]
  },
  {
   "cell_type": "markdown",
   "metadata": {
    "slideshow": {
     "slide_type": "subslide"
    }
   },
   "source": [
    "The problem with the above is that it reads `d` for _every_ output element. Can we accomplish the same thing touching each input only once (or only a few times)? Yes!"
   ]
  },
  {
   "cell_type": "code",
   "execution_count": 6,
   "metadata": {
    "slideshow": {
     "slide_type": "subslide"
    }
   },
   "outputs": [
    {
     "name": "stdout",
     "output_type": "stream",
     "text": [
      "[1.0, 7.0, 0, 11.0, 0, 6.0, 0, 3.0]\n"
     ]
    }
   ],
   "source": [
    "def decomp__v1(d, n=None):\n",
    "    if n is None:\n",
    "        n = max(d['inds']) + 1\n",
    "    y = [0] * n  # O(n)\n",
    "    for k, v in zip(d['inds'], d['vals']): # O(m)\n",
    "        y[k] += v\n",
    "    return y\n",
    "\n",
    "y = decomp__v1(d)\n",
    "print(y)\n",
    "assert y == x_true"
   ]
  },
  {
   "cell_type": "markdown",
   "metadata": {
    "slideshow": {
     "slide_type": "slide"
    }
   },
   "source": [
    "## Follow-up exercise: Sparse dot products ##"
   ]
  },
  {
   "cell_type": "markdown",
   "metadata": {
    "slideshow": {
     "slide_type": "subslide"
    }
   },
   "source": [
    "Consider a dense dot product where the vector elements (or components) include zeros:"
   ]
  },
  {
   "cell_type": "code",
   "execution_count": 7,
   "metadata": {
    "slideshow": {
     "slide_type": "fragment"
    }
   },
   "outputs": [
    {
     "data": {
      "text/plain": [
       "-130"
      ]
     },
     "execution_count": 7,
     "metadata": {},
     "output_type": "execute_result"
    }
   ],
   "source": [
    "x = [17, 0, 0, -20, -20, 14, 0, 0, -6, 0]\n",
    "y = [-6, 0, 13, 0, 2, 0, 0, 7, -2, 0]\n",
    "\n",
    "def dot(x, y):\n",
    "    return sum(ex*ey for ex, ey in zip(x, y))\n",
    "\n",
    "dot(x, y)"
   ]
  },
  {
   "cell_type": "markdown",
   "metadata": {
    "slideshow": {
     "slide_type": "subslide"
    }
   },
   "source": [
    "Here is a variation on this code designed to resemble more closely the mathematical formula for a dot product, which iterates over an index:\n",
    "\n",
    "$$\\mbox{dot}(x, y) = \\sum_{i=0}^{n-1} x_i y_i.$$"
   ]
  },
  {
   "cell_type": "code",
   "execution_count": 8,
   "metadata": {
    "slideshow": {
     "slide_type": "fragment"
    }
   },
   "outputs": [
    {
     "data": {
      "text/plain": [
       "-130"
      ]
     },
     "execution_count": 8,
     "metadata": {},
     "output_type": "execute_result"
    }
   ],
   "source": [
    "def dot__v2(x, y):\n",
    "    assert len(x) == len(y)\n",
    "    return sum(x[i]*y[i] for i in range(len(x)))\n",
    "\n",
    "dot__v2(x, y)"
   ]
  },
  {
   "cell_type": "markdown",
   "metadata": {
    "slideshow": {
     "slide_type": "subslide"
    }
   },
   "source": [
    "Suppose we want to exploit the zeros by avoiding storing and operating on them. Here are two sparse vectors in the style of `nb1.1.3`:"
   ]
  },
  {
   "cell_type": "code",
   "execution_count": 9,
   "metadata": {
    "slideshow": {
     "slide_type": "fragment"
    }
   },
   "outputs": [],
   "source": [
    "dx = {'inds': [0, 3, 4, 5, 8], 'vals': [17, -20, -20, 14, -6]}\n",
    "dy = {'inds': [0, 2, 4, 7, 8], 'vals': [-6, 13, 2, 7, -2]}"
   ]
  },
  {
   "cell_type": "markdown",
   "metadata": {
    "slideshow": {
     "slide_type": "fragment"
    }
   },
   "source": [
    "**Question:** What does a dot product look like for this sparse representation?"
   ]
  },
  {
   "cell_type": "markdown",
   "metadata": {
    "slideshow": {
     "slide_type": "subslide"
    }
   },
   "source": [
    "The terms of the dot product (i.e., $x_i y_i$) are nonzero only when _both_ $x_i \\neq 0$ and $y_i \\neq 0$. We can detect the common $i$ indices between the two sparse vectors by converting the indices to sets and then finding their intersection:"
   ]
  },
  {
   "cell_type": "code",
   "execution_count": 10,
   "metadata": {
    "slideshow": {
     "slide_type": "fragment"
    }
   },
   "outputs": [
    {
     "data": {
      "text/plain": [
       "{0, 4, 8}"
      ]
     },
     "execution_count": 10,
     "metadata": {},
     "output_type": "execute_result"
    }
   ],
   "source": [
    "def common_inds(dx, dy):\n",
    "    inds_x = set(dx['inds'])\n",
    "    inds_y = set(dy['inds'])\n",
    "    return inds_x & inds_y\n",
    "\n",
    "common_inds(dx, dy)"
   ]
  },
  {
   "cell_type": "markdown",
   "metadata": {
    "slideshow": {
     "slide_type": "subslide"
    }
   },
   "source": [
    "From this building block, here's a first cut at a dot product \"derived\" from `dot__v2`:"
   ]
  },
  {
   "cell_type": "code",
   "execution_count": 11,
   "metadata": {
    "slideshow": {
     "slide_type": "fragment"
    }
   },
   "outputs": [
    {
     "data": {
      "text/plain": [
       "-130"
      ]
     },
     "execution_count": 11,
     "metadata": {},
     "output_type": "execute_result"
    }
   ],
   "source": [
    "def sp_dot__v0(dx, dy):\n",
    "    dot = 0\n",
    "    for i in common_inds(dx, dy):    # O(m) where m == max nnz per vector\n",
    "        loc_x = dx['inds'].index(i)  # Also O(m) because of the index-search\n",
    "        loc_y = dy['inds'].index(i)\n",
    "        x_i = dx['vals'][loc_x]\n",
    "        y_i = dy['vals'][loc_y]\n",
    "        dot += x_i * y_i\n",
    "    return dot\n",
    "\n",
    "sp_dot__v0(dx, dy)"
   ]
  },
  {
   "cell_type": "markdown",
   "metadata": {
    "slideshow": {
     "slide_type": "subslide"
    }
   },
   "source": [
    "If each vector has an average of $m$ nonzeros, then the cost of this procedure is $O(m^2)$, since there is a hidden $O(m)$ cost to search the list to find the index location."
   ]
  },
  {
   "cell_type": "markdown",
   "metadata": {
    "slideshow": {
     "slide_type": "subslide"
    }
   },
   "source": [
    "**Reducing the cost.** To reduce the cost of search, we can ask whether there is some preprocessing that might help. Indeed, in a single pass over the sparse vector, we can construct a \"lookup table\" that maps indices to values."
   ]
  },
  {
   "cell_type": "code",
   "execution_count": 12,
   "metadata": {
    "slideshow": {
     "slide_type": "fragment"
    }
   },
   "outputs": [
    {
     "data": {
      "text/plain": [
       "{0: 17, 3: -20, 4: -20, 5: 14, 8: -6}"
      ]
     },
     "execution_count": 12,
     "metadata": {},
     "output_type": "execute_result"
    }
   ],
   "source": [
    "def gen_lookup(d): # `d` is a sparse vector\n",
    "    t = {} # Lookup table to map an index to its value\n",
    "    for i, v in zip(d['inds'], d['vals']):\n",
    "        if i not in t:\n",
    "            t[i] = 0\n",
    "        t[i] += v\n",
    "    return t\n",
    "\n",
    "gen_lookup(dx) # Demo"
   ]
  },
  {
   "cell_type": "markdown",
   "metadata": {
    "slideshow": {
     "slide_type": "subslide"
    }
   },
   "source": [
    "> _Note:_ This code will work even in the case of repeated indices, even though our example does not include that case."
   ]
  },
  {
   "cell_type": "code",
   "execution_count": 13,
   "metadata": {
    "slideshow": {
     "slide_type": "subslide"
    }
   },
   "outputs": [
    {
     "name": "stdout",
     "output_type": "stream",
     "text": [
      "{'inds': [0, 3, 7, 3, 3, 5, 1], 'vals': [1.0, 2.0, 3.0, 4.0, 5.0, 6.0, 7.0]}\n",
      "{0: 1.0, 3: 11.0, 7: 3.0, 5: 6.0, 1: 7.0}\n",
      "[1.0, 7.0, 0.0, 11.0, 0.0, 6.0, 0.0, 3.0]\n"
     ]
    }
   ],
   "source": [
    "print(d)\n",
    "print(gen_lookup(d))\n",
    "print(x_true)"
   ]
  },
  {
   "cell_type": "markdown",
   "metadata": {
    "slideshow": {
     "slide_type": "subslide"
    }
   },
   "source": [
    "Combining these two building blocks, here is a more efficient sparse dot:"
   ]
  },
  {
   "cell_type": "code",
   "execution_count": 14,
   "metadata": {
    "slideshow": {
     "slide_type": "fragment"
    }
   },
   "outputs": [
    {
     "data": {
      "text/plain": [
       "-130"
      ]
     },
     "execution_count": 14,
     "metadata": {},
     "output_type": "execute_result"
    }
   ],
   "source": [
    "def sp_dot__v1(dx, dy):\n",
    "    tx = gen_lookup(dx)\n",
    "    ty = gen_lookup(dy)\n",
    "    I = set(tx.keys()) & set(ty.keys()) # common indices\n",
    "    return sum(tx[i]*ty[i] for i in I)\n",
    "\n",
    "sp_dot__v1(dx, dy)"
   ]
  },
  {
   "cell_type": "markdown",
   "metadata": {
    "slideshow": {
     "slide_type": "subslide"
    }
   },
   "source": [
    "**Benchmarking.** Let's compare the speed of these two sparse dot product implementations against the dense case. Let's start with a small example."
   ]
  },
  {
   "cell_type": "code",
   "execution_count": 15,
   "metadata": {
    "slideshow": {
     "slide_type": "subslide"
    }
   },
   "outputs": [
    {
     "name": "stdout",
     "output_type": "stream",
     "text": [
      "* Dense case...\n",
      "1.11 µs ± 75.5 ns per loop (mean ± std. dev. of 7 runs, 1000000 loops each)\n",
      "\n",
      "* Sparse dot, version 0...\n",
      "1.89 µs ± 50.1 ns per loop (mean ± std. dev. of 7 runs, 1000000 loops each)\n",
      "\n",
      "* Sparse dot, version 1...\n",
      "3.88 µs ± 97.6 ns per loop (mean ± std. dev. of 7 runs, 100000 loops each)\n"
     ]
    }
   ],
   "source": [
    "def decomp(d, n_max=None):\n",
    "    if n_max is None:\n",
    "        n_max = (max(d['inds']) if d['inds'] else 0) + 1\n",
    "    y = [0] * n_max\n",
    "    for i, v in zip(d['inds'], d['vals']):\n",
    "        y[i] += v\n",
    "    return y\n",
    "\n",
    "print(\"* Dense case...\")\n",
    "x = decomp(dx)\n",
    "y = decomp(dy)\n",
    "%timeit dot(x, y) # Could also try `dot__v2`\n",
    "\n",
    "print(\"\\n* Sparse dot, version 0...\")\n",
    "%timeit sp_dot__v0(dx, dy)\n",
    "\n",
    "print(\"\\n* Sparse dot, version 1...\")\n",
    "%timeit sp_dot__v1(dx, dy)"
   ]
  },
  {
   "cell_type": "markdown",
   "metadata": {
    "slideshow": {
     "slide_type": "subslide"
    }
   },
   "source": [
    "On small inputs, you can see the exact _opposite_ of what you might expect! That's because conversion to sets and construction or manipulation of lookup tables carries an overhead that outweights the benefits of sparse storage when the vectors are small.\n",
    "\n",
    "Instead, let's try large inputs. Here is a helper function to generate a large random sparse input vector:"
   ]
  },
  {
   "cell_type": "code",
   "execution_count": 16,
   "metadata": {
    "slideshow": {
     "slide_type": "subslide"
    }
   },
   "outputs": [],
   "source": [
    "def gen_rand_sparse_vector(n=10, nnz=10, max_val=20, unique=True):\n",
    "    from random import randint, sample, random, shuffle\n",
    "    nnz_unique = nnz\n",
    "    vals_unique = [(i, randint(-max_val, max_val)) for i in sample(range(n), nnz)]\n",
    "    d_true = {'inds': [i for i, _ in sorted(vals_unique)],\n",
    "              'vals': [v for _, v in sorted(vals_unique)]}\n",
    "    if unique:\n",
    "        return d_true\n",
    "\n",
    "    vals = []\n",
    "    for i, v in vals_unique:\n",
    "        if random() < 0.2: # Duplicate!\n",
    "            n_dups = randint(2, 5)\n",
    "            vals += [(i, w) for w in partition_value(v, n_dups)]\n",
    "        else:\n",
    "            vals += [(i, v)]\n",
    "    shuffle(vals)\n",
    "    d_input = {'inds': [i for i, _ in vals],\n",
    "               'vals': [v for _, v in vals]}\n",
    "    return d_input"
   ]
  },
  {
   "cell_type": "markdown",
   "metadata": {
    "slideshow": {
     "slide_type": "subslide"
    }
   },
   "source": [
    "Let's use `gen_rand_sparse_vector` to generate random sparse input vectors of length 100,000 elements with 1,000 nonzeros each."
   ]
  },
  {
   "cell_type": "code",
   "execution_count": 17,
   "metadata": {
    "slideshow": {
     "slide_type": "fragment"
    }
   },
   "outputs": [
    {
     "name": "stdout",
     "output_type": "stream",
     "text": [
      "* dx_big: 1000 nonzeros.\n",
      "* dy_big: 1000 nonzeros.\n",
      "* common indices: 11 nonzeros.\n"
     ]
    }
   ],
   "source": [
    "N = 100_000\n",
    "dx_big = gen_rand_sparse_vector(n=N, nnz=1_000)\n",
    "dy_big = gen_rand_sparse_vector(n=N, nnz=1_000)\n",
    "\n",
    "print(\"* dx_big:\", len(dx_big['inds']), \"nonzeros.\")\n",
    "print(\"* dy_big:\", len(dx_big['inds']), \"nonzeros.\")\n",
    "print(\"* common indices:\", len(common_inds(dx_big, dy_big)), \"nonzeros.\")"
   ]
  },
  {
   "cell_type": "markdown",
   "metadata": {
    "slideshow": {
     "slide_type": "subslide"
    }
   },
   "source": [
    "Let's try first converting to dense vectors:"
   ]
  },
  {
   "cell_type": "code",
   "execution_count": 18,
   "metadata": {
    "slideshow": {
     "slide_type": "fragment"
    }
   },
   "outputs": [
    {
     "name": "stdout",
     "output_type": "stream",
     "text": [
      "-449\n",
      "6.53 ms ± 59.7 µs per loop (mean ± std. dev. of 7 runs, 100 loops each)\n"
     ]
    }
   ],
   "source": [
    "x_big = decomp(dx_big, n_max=N)\n",
    "y_big = decomp(dy_big, n_max=N)\n",
    "print(dot(x_big, y_big)) # note the \"correct\" answer\n",
    "%timeit dot(x_big, y_big)"
   ]
  },
  {
   "cell_type": "markdown",
   "metadata": {
    "slideshow": {
     "slide_type": "subslide"
    }
   },
   "source": [
    "Now let's try our two sparse methods:"
   ]
  },
  {
   "cell_type": "code",
   "execution_count": 19,
   "metadata": {
    "slideshow": {
     "slide_type": "fragment"
    }
   },
   "outputs": [
    {
     "name": "stdout",
     "output_type": "stream",
     "text": [
      "-449\n",
      "194 µs ± 3.98 µs per loop (mean ± std. dev. of 7 runs, 1000 loops each)\n",
      "-449\n",
      "451 µs ± 13.1 µs per loop (mean ± std. dev. of 7 runs, 1000 loops each)\n"
     ]
    }
   ],
   "source": [
    "print(sp_dot__v0(dx_big, dy_big)) # check answer against the dense case\n",
    "%timeit sp_dot__v0(dx_big, dy_big)\n",
    "\n",
    "print(sp_dot__v1(dx_big, dy_big)) # check answer\n",
    "%timeit sp_dot__v1(dx_big, dy_big)"
   ]
  },
  {
   "cell_type": "markdown",
   "metadata": {
    "slideshow": {
     "slide_type": "fragment"
    }
   },
   "source": [
    "You should observe these to be much faster now."
   ]
  },
  {
   "cell_type": "markdown",
   "metadata": {
    "slideshow": {
     "slide_type": "slide"
    }
   },
   "source": [
    "## Default dictionaries ##"
   ]
  },
  {
   "cell_type": "markdown",
   "metadata": {
    "slideshow": {
     "slide_type": "subslide"
    }
   },
   "source": [
    "The `gen_lookup` function contained an instance of a common pattern with dictionaries:\n",
    "\n",
    "```python\n",
    "    t = {}\n",
    "    for i in ...:\n",
    "        if i not in t:\n",
    "            t[i] = 0\n",
    "        t[i] += ...\n",
    "```\n",
    "\n",
    "Before accumulating `t[i]`, the code verifies that the key `i` exists. If it does not, it first creates an \"empty\" entry, initialized to zero, and then does the accumulate."
   ]
  },
  {
   "cell_type": "markdown",
   "metadata": {
    "slideshow": {
     "slide_type": "subslide"
    }
   },
   "source": [
    "**Example:** Suppose we wish to count the number of occurrences of a character in a string."
   ]
  },
  {
   "cell_type": "code",
   "execution_count": 20,
   "metadata": {
    "slideshow": {
     "slide_type": "fragment"
    }
   },
   "outputs": [],
   "source": [
    "s = \"bbbaaaabaaa\""
   ]
  },
  {
   "cell_type": "markdown",
   "metadata": {
    "slideshow": {
     "slide_type": "fragment"
    }
   },
   "source": [
    "In this case, `'a'` occurs 7 times and `'b'` occurs 4 times. Let's say we want to construct a dictionary `count` such that `count['a'] == 7` and `count['b'] == 4`."
   ]
  },
  {
   "cell_type": "markdown",
   "metadata": {
    "slideshow": {
     "slide_type": "subslide"
    }
   },
   "source": [
    "The following code does _not_ work! Try uncommenting it to see:"
   ]
  },
  {
   "cell_type": "code",
   "execution_count": 21,
   "metadata": {
    "slideshow": {
     "slide_type": "fragment"
    }
   },
   "outputs": [],
   "source": [
    "#count = {}\n",
    "#for c in s:\n",
    "#    count[c] += 1\n",
    "#count"
   ]
  },
  {
   "cell_type": "markdown",
   "metadata": {
    "slideshow": {
     "slide_type": "subslide"
    }
   },
   "source": [
    "Instead, we need something like the following:"
   ]
  },
  {
   "cell_type": "code",
   "execution_count": 22,
   "metadata": {
    "slideshow": {
     "slide_type": "fragment"
    }
   },
   "outputs": [
    {
     "data": {
      "text/plain": [
       "{'b': 4, 'a': 7}"
      ]
     },
     "execution_count": 22,
     "metadata": {},
     "output_type": "execute_result"
    }
   ],
   "source": [
    "count = {}\n",
    "for c in s:\n",
    "    if c not in count:\n",
    "        count[c] = 0\n",
    "    assert c in count\n",
    "    count[c] += 1\n",
    "count"
   ]
  },
  {
   "cell_type": "markdown",
   "metadata": {
    "slideshow": {
     "slide_type": "subslide"
    }
   },
   "source": [
    "Default dictionaries give us a way to simplify this code:"
   ]
  },
  {
   "cell_type": "code",
   "execution_count": 23,
   "metadata": {
    "slideshow": {
     "slide_type": "fragment"
    }
   },
   "outputs": [
    {
     "data": {
      "text/plain": [
       "defaultdict(int, {'b': 4, 'a': 7})"
      ]
     },
     "execution_count": 23,
     "metadata": {},
     "output_type": "execute_result"
    }
   ],
   "source": [
    "from collections import defaultdict\n",
    "count = defaultdict(int)\n",
    "\n",
    "for c in s:\n",
    "    count[c] += 1\n",
    "count"
   ]
  },
  {
   "cell_type": "markdown",
   "metadata": {
    "slideshow": {
     "slide_type": "subslide"
    }
   },
   "source": [
    "The `defaultdict(...)` constructor is another example of a higher-order function: its single argument is a _function_. The function must have the property that when it is called with no inputs it produces a value as its output, where the value may be considered an initial value for nonexistent keys.\n",
    "\n",
    "For instance, recall:"
   ]
  },
  {
   "cell_type": "code",
   "execution_count": 24,
   "metadata": {
    "slideshow": {
     "slide_type": "fragment"
    }
   },
   "outputs": [
    {
     "data": {
      "text/plain": [
       "0"
      ]
     },
     "execution_count": 24,
     "metadata": {},
     "output_type": "execute_result"
    }
   ],
   "source": [
    "int()"
   ]
  },
  {
   "cell_type": "markdown",
   "metadata": {
    "slideshow": {
     "slide_type": "fragment"
    }
   },
   "source": [
    "Therefore, the `defaultdict(int)` object will use `int()` whenever it needs a new initial value.\n",
    "\n",
    "> The other basic built-in Python objects have a similar property. Try `float()`, `str()`, `list()`, `set()`, and even `dict()`."
   ]
  },
  {
   "cell_type": "markdown",
   "metadata": {
    "slideshow": {
     "slide_type": "subslide"
    }
   },
   "source": [
    "A major pitfall with default dictionaries is that even just referencing a key causes it to be created. Example:"
   ]
  },
  {
   "cell_type": "code",
   "execution_count": 25,
   "metadata": {
    "slideshow": {
     "slide_type": "fragment"
    }
   },
   "outputs": [
    {
     "name": "stdout",
     "output_type": "stream",
     "text": [
      "defaultdict(<class 'int'>, {'b': 4, 'a': 7})\n",
      "defaultdict(<class 'int'>, {'b': 4, 'a': 7, 'abc': 0})\n"
     ]
    }
   ],
   "source": [
    "print(count)\n",
    "count['abc']  # Not doing anything here — not assigning, not using\n",
    "print(count)"
   ]
  },
  {
   "cell_type": "markdown",
   "metadata": {
    "slideshow": {
     "slide_type": "fragment"
    }
   },
   "source": [
    "That can lead to blow-ups in storage (and time!). So, do be careful not to reference keys unnecessarily."
   ]
  },
  {
   "cell_type": "markdown",
   "metadata": {
    "slideshow": {
     "slide_type": "subslide"
    }
   },
   "source": [
    "**An alternative: `dict.get`.** Default dictionaries aren't the only way. Recall that if `d` is a dictionary, then `d.get(key, default_value)` will return `default_value` if `key` does not exist in `d`:"
   ]
  },
  {
   "cell_type": "code",
   "execution_count": 26,
   "metadata": {
    "slideshow": {
     "slide_type": "fragment"
    }
   },
   "outputs": [
    {
     "data": {
      "text/plain": [
       "(False, 0, 7)"
      ]
     },
     "execution_count": 26,
     "metadata": {},
     "output_type": "execute_result"
    }
   ],
   "source": [
    "'x' in count, count.get('x', 0), count.get('a', 0)"
   ]
  },
  {
   "cell_type": "markdown",
   "metadata": {
    "slideshow": {
     "slide_type": "subslide"
    }
   },
   "source": [
    "Thus:"
   ]
  },
  {
   "cell_type": "code",
   "execution_count": 27,
   "metadata": {
    "slideshow": {
     "slide_type": "fragment"
    }
   },
   "outputs": [
    {
     "data": {
      "text/plain": [
       "{'b': 4, 'a': 7}"
      ]
     },
     "execution_count": 27,
     "metadata": {},
     "output_type": "execute_result"
    }
   ],
   "source": [
    "count = {}\n",
    "for c in s:\n",
    "    count[c] = count.get(c, 0) + 1\n",
    "count"
   ]
  },
  {
   "cell_type": "markdown",
   "metadata": {
    "slideshow": {
     "slide_type": "subslide"
    }
   },
   "source": [
    "**Exercise:** What does this code produce?"
   ]
  },
  {
   "cell_type": "code",
   "execution_count": 28,
   "metadata": {
    "slideshow": {
     "slide_type": "fragment"
    }
   },
   "outputs": [
    {
     "data": {
      "text/plain": [
       "defaultdict(<function __main__.default_value()>, {'b': -16, 'a': -13})"
      ]
     },
     "execution_count": 28,
     "metadata": {},
     "output_type": "execute_result"
    }
   ],
   "source": [
    "def default_value():\n",
    "    return -20\n",
    "\n",
    "count2 = defaultdict(default_value)\n",
    "for c in s:\n",
    "    count2[c] += 1\n",
    "count2"
   ]
  },
  {
   "cell_type": "markdown",
   "metadata": {
    "slideshow": {
     "slide_type": "subslide"
    }
   },
   "source": [
    "**Aside: Another alternative, `Counter` objects.** The `collections` module implements many useful objects and functions. One is `Counter`, which does exactly what we need in our letter-counting problem."
   ]
  },
  {
   "cell_type": "code",
   "execution_count": 29,
   "metadata": {
    "slideshow": {
     "slide_type": "fragment"
    }
   },
   "outputs": [
    {
     "data": {
      "text/plain": [
       "Counter({'b': 4, 'a': 7})"
      ]
     },
     "execution_count": 29,
     "metadata": {},
     "output_type": "execute_result"
    }
   ],
   "source": [
    "from collections import Counter\n",
    "Counter(s)"
   ]
  },
  {
   "cell_type": "code",
   "execution_count": 30,
   "metadata": {
    "slideshow": {
     "slide_type": "fragment"
    }
   },
   "outputs": [
    {
     "data": {
      "text/plain": [
       "True"
      ]
     },
     "execution_count": 30,
     "metadata": {},
     "output_type": "execute_result"
    }
   ],
   "source": [
    "isinstance(Counter(s), dict)"
   ]
  },
  {
   "cell_type": "markdown",
   "metadata": {
    "slideshow": {
     "slide_type": "subslide"
    }
   },
   "source": [
    "Although `Counter` constructs a special object of that type, in fact, it is derived from a dictionary so it can be used as such."
   ]
  },
  {
   "cell_type": "markdown",
   "metadata": {
    "slideshow": {
     "slide_type": "slide"
    }
   },
   "source": [
    "## Teaser for Notebook 4 ##\n",
    "\n",
    "See this [Google Colab notebook](https://colab.research.google.com/drive/1-MlOoW5y2TznOm_LmBjlArjbkwvMrykJ?usp=sharing) and observe how two computations that should produce identical answers appear to be ever so slightly different. The question we closed with is, are you okay with that? How would you know?"
   ]
  },
  {
   "cell_type": "markdown",
   "metadata": {
    "slideshow": {
     "slide_type": "slide"
    }
   },
   "source": [
    "## Summary ##\n",
    "\n",
    "1. From nb1.1.3, remember your analytical goal, which is to strive for linear time methods.\n",
    "2. In the sparse dot product problem, a judicious combination of the right data structures helped to achieve efficient code, at least for large-enough inputs.\n",
    "3. Default dictionaries help address a common pattern with dictionaries, which is creating a key with a default value when the key does not exist. There are alternatives, too, so keep them in mind.\n",
    "4. The next homework (Notebook 4) will be about floating-point arithmetic. It will help answer some fundamental questions, namely, how do we represent real numbers in a finite (i.e., efficient) way on a computer, and how do we reason about the correctness of programs that manipulate such numbers?"
   ]
  }
 ],
 "metadata": {
  "celltoolbar": "Slideshow",
  "kernelspec": {
   "display_name": "Python 3",
   "language": "python",
   "name": "python3"
  },
  "language_info": {
   "codemirror_mode": {
    "name": "ipython",
    "version": 3
   },
   "file_extension": ".py",
   "mimetype": "text/x-python",
   "name": "python",
   "nbconvert_exporter": "python",
   "pygments_lexer": "ipython3",
   "version": "3.8.5"
  },
  "toc": {
   "base_numbering": 1,
   "nav_menu": {},
   "number_sections": true,
   "sideBar": true,
   "skip_h1_title": false,
   "title_cell": "Table of Contents",
   "title_sidebar": "Contents",
   "toc_cell": false,
   "toc_position": {},
   "toc_section_display": true,
   "toc_window_display": false
  }
 },
 "nbformat": 4,
 "nbformat_minor": 4
}
