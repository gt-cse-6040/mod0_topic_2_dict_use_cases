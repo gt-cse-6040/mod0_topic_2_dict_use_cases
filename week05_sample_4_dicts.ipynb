{
 "cells": [
  {
   "cell_type": "markdown",
   "id": "47502a76",
   "metadata": {},
   "source": [
    "# Week 5 Skills OH Sample Problem 4.\n",
    "\n",
    "### This notebook is an application of the NBA nested data notebook from the Skills OH Week 3.\n",
    "\n",
    "#### We will be taking that data structure and performing some typical tasks that we do on dictionaries."
   ]
  },
  {
   "cell_type": "markdown",
   "id": "eed72988",
   "metadata": {},
   "source": [
    "## Nested Data Structures: NBA Player Analysis, some dictionary applications\n",
    "\n",
    "This notebook exercises the concepts of nested data structures in Python.\n",
    "\n",
    "You can go back to the Week 3 notebook for details on the background and format of the data."
   ]
  },
  {
   "cell_type": "markdown",
   "id": "e551d0d2",
   "metadata": {},
   "source": [
    "## Load the data file and put into 'nested' list (of nested dictionaries).\n",
    "\n",
    "#### json.txt (into the variable nested)\n",
    "    This is the raw data, scraped from the NBA API. We will put this into a variable, nested, which will be a list of dictionaries.\n",
    "    \n",
    "### Don't worry about the below cell, just loading data."
   ]
  },
  {
   "cell_type": "code",
   "execution_count": 1,
   "id": "c813cfad",
   "metadata": {
    "scrolled": true
   },
   "outputs": [],
   "source": [
    "# import the required packages\n",
    "import pandas as pd\n",
    "import numpy as np\n",
    "import ast\n",
    "\n",
    "# reading the data from the json file\n",
    "with open('nba_json.txt') as f:\n",
    "    data = f.readlines()\n",
    "    \n",
    "nested = [] # this is going to be our nested data structure\n",
    "#put each line(string) into a dictionary\n",
    "for line in data:\n",
    "    result = ast.literal_eval(line)\n",
    "#     print(result)\n",
    "    nested.append(result)"
   ]
  },
  {
   "cell_type": "markdown",
   "id": "0c8ebaec",
   "metadata": {},
   "source": [
    "## Let's take a quick look at 'nested', the list holding our data.\n"
   ]
  },
  {
   "cell_type": "code",
   "execution_count": 3,
   "id": "7920cd61",
   "metadata": {
    "scrolled": true
   },
   "outputs": [
    {
     "name": "stdout",
     "output_type": "stream",
     "text": [
      "{'resource': 'leagueseasonmatchups', 'parameters': {'LeagueID': '00', 'Season': '2019-20', 'SeasonType': 'Regular Season', 'PORound': 0, 'PerMode': 'Totals', 'DefTeamID': None, 'OffTeamID': None, 'OffPlayerID': None, 'DefPlayerID': 202329}, 'resultSets': [{'name': 'SeasonMatchups', 'headers': ['SEASON_ID', 'OFF_PLAYER_ID', 'OFF_PLAYER_NAME', 'DEF_PLAYER_ID', 'DEF_PLAYER_NAME', 'GP', 'MATCHUP_MIN', 'PARTIAL_POSS', 'PLAYER_PTS', 'TEAM_PTS', 'MATCHUP_AST', 'MATCHUP_TOV', 'MATCHUP_BLK', 'MATCHUP_FGM', 'MATCHUP_FGA', 'MATCHUP_FG_PCT', 'MATCHUP_FG3M', 'MATCHUP_FG3A', 'MATCHUP_FG3_PCT', 'HELP_BLK', 'HELP_FGM', 'HELP_FGA', 'HELP_FG_PERC', 'MATCHUP_FTM', 'MATCHUP_FTA', 'SFL', 'MATCHUP_TIME_SEC'], 'rowSet': [['22019', 1629060, 'Rui Hachimura', 202329, 'Al-Farouq Aminu', 1, '6:45', 31.9, 4, 47, 1, 0, 0, 2, 5, 0.4, 0, 0, 0.0, 0, 0, 0, 0, 0, 0, 0, 404.7], ['22019', 1626168, 'Trey Lyles', 202329, 'Al-Farouq Aminu', 1, '7:31', 30.5, 3, 22, 0, 1, 0, 1, 3, 0.333, 1, 2, 0.5, 0, 0, 0, 0, 0, 0, 0, 451.1], ['22019', 1628384, 'OG Anunoby', 202329, 'Al-Farouq Aminu', 3, '5:56', 29.3, 5, 37, 1, 1, 1, 2, 4, 0.5, 1, 2, 0.5, 0, 0, 0, 0, 0, 0, 0, 355.6], ['22019', 201567, 'Kevin Love', 202329, 'Al-Farouq Aminu', 2, '5:17', 25.0, 4, 14, 0, 1, 0, 2, 3, 0.667, 0, 1, 0.0, 0, 0, 0, 0, 0, 0, 0, 316.8]]}]}\n",
      "\n",
      "\n",
      "dict_keys(['resource', 'parameters', 'resultSets'])\n"
     ]
    }
   ],
   "source": [
    "# display the first dictionary in the list\n",
    "# Using list notation to address this element\n",
    "print(nested[0])\n",
    "print('\\n')\n",
    "print(nested[0].keys())\n"
   ]
  },
  {
   "cell_type": "markdown",
   "id": "6bb3da9d",
   "metadata": {},
   "source": [
    "## The key 'resultSets' contains the data the we want to manipulate.\n",
    "\n",
    "### Let's take a look at it."
   ]
  },
  {
   "cell_type": "code",
   "execution_count": 5,
   "id": "99280f6a",
   "metadata": {},
   "outputs": [
    {
     "name": "stdout",
     "output_type": "stream",
     "text": [
      "[{'name': 'SeasonMatchups', 'headers': ['SEASON_ID', 'OFF_PLAYER_ID', 'OFF_PLAYER_NAME', 'DEF_PLAYER_ID', 'DEF_PLAYER_NAME', 'GP', 'MATCHUP_MIN', 'PARTIAL_POSS', 'PLAYER_PTS', 'TEAM_PTS', 'MATCHUP_AST', 'MATCHUP_TOV', 'MATCHUP_BLK', 'MATCHUP_FGM', 'MATCHUP_FGA', 'MATCHUP_FG_PCT', 'MATCHUP_FG3M', 'MATCHUP_FG3A', 'MATCHUP_FG3_PCT', 'HELP_BLK', 'HELP_FGM', 'HELP_FGA', 'HELP_FG_PERC', 'MATCHUP_FTM', 'MATCHUP_FTA', 'SFL', 'MATCHUP_TIME_SEC'], 'rowSet': [['22019', 1629060, 'Rui Hachimura', 202329, 'Al-Farouq Aminu', 1, '6:45', 31.9, 4, 47, 1, 0, 0, 2, 5, 0.4, 0, 0, 0.0, 0, 0, 0, 0, 0, 0, 0, 404.7], ['22019', 1626168, 'Trey Lyles', 202329, 'Al-Farouq Aminu', 1, '7:31', 30.5, 3, 22, 0, 1, 0, 1, 3, 0.333, 1, 2, 0.5, 0, 0, 0, 0, 0, 0, 0, 451.1], ['22019', 1628384, 'OG Anunoby', 202329, 'Al-Farouq Aminu', 3, '5:56', 29.3, 5, 37, 1, 1, 1, 2, 4, 0.5, 1, 2, 0.5, 0, 0, 0, 0, 0, 0, 0, 355.6], ['22019', 201567, 'Kevin Love', 202329, 'Al-Farouq Aminu', 2, '5:17', 25.0, 4, 14, 0, 1, 0, 2, 3, 0.667, 0, 1, 0.0, 0, 0, 0, 0, 0, 0, 0, 316.8]]}]\n",
      "\n",
      "\n",
      "dict_keys(['name', 'headers', 'rowSet'])\n"
     ]
    }
   ],
   "source": [
    "print(nested[0]['resultSets'])\n",
    "print('\\n')\n",
    "print(nested[0]['resultSets'][0].keys())"
   ]
  },
  {
   "cell_type": "markdown",
   "id": "a65a6f50",
   "metadata": {},
   "source": [
    "## Note that this is a list containing a single dictionary, with three keys.\n",
    "\n",
    "#### The key 'rowSet' contains the statistics that we are interested in, and the key 'headers' defines what each of the statisics is.\n",
    "\n",
    "#### Note that this first dict is for the player Al-Farouq Aminu, with the player_id 202329."
   ]
  },
  {
   "cell_type": "code",
   "execution_count": 7,
   "id": "eb261382",
   "metadata": {
    "scrolled": true
   },
   "outputs": [
    {
     "name": "stdout",
     "output_type": "stream",
     "text": [
      "['SEASON_ID', 'OFF_PLAYER_ID', 'OFF_PLAYER_NAME', 'DEF_PLAYER_ID', 'DEF_PLAYER_NAME', 'GP', 'MATCHUP_MIN', 'PARTIAL_POSS', 'PLAYER_PTS', 'TEAM_PTS', 'MATCHUP_AST', 'MATCHUP_TOV', 'MATCHUP_BLK', 'MATCHUP_FGM', 'MATCHUP_FGA', 'MATCHUP_FG_PCT', 'MATCHUP_FG3M', 'MATCHUP_FG3A', 'MATCHUP_FG3_PCT', 'HELP_BLK', 'HELP_FGM', 'HELP_FGA', 'HELP_FG_PERC', 'MATCHUP_FTM', 'MATCHUP_FTA', 'SFL', 'MATCHUP_TIME_SEC']\n",
      "\n",
      "\n",
      "[['22019', 1629060, 'Rui Hachimura', 202329, 'Al-Farouq Aminu', 1, '6:45', 31.9, 4, 47, 1, 0, 0, 2, 5, 0.4, 0, 0, 0.0, 0, 0, 0, 0, 0, 0, 0, 404.7], ['22019', 1626168, 'Trey Lyles', 202329, 'Al-Farouq Aminu', 1, '7:31', 30.5, 3, 22, 0, 1, 0, 1, 3, 0.333, 1, 2, 0.5, 0, 0, 0, 0, 0, 0, 0, 451.1], ['22019', 1628384, 'OG Anunoby', 202329, 'Al-Farouq Aminu', 3, '5:56', 29.3, 5, 37, 1, 1, 1, 2, 4, 0.5, 1, 2, 0.5, 0, 0, 0, 0, 0, 0, 0, 355.6], ['22019', 201567, 'Kevin Love', 202329, 'Al-Farouq Aminu', 2, '5:17', 25.0, 4, 14, 0, 1, 0, 2, 3, 0.667, 0, 1, 0.0, 0, 0, 0, 0, 0, 0, 0, 316.8]]\n",
      "\n",
      "\n",
      "['22019', 1629060, 'Rui Hachimura', 202329, 'Al-Farouq Aminu', 1, '6:45', 31.9, 4, 47, 1, 0, 0, 2, 5, 0.4, 0, 0, 0.0, 0, 0, 0, 0, 0, 0, 0, 404.7]\n",
      "\n",
      "\n",
      "['22019', 1626168, 'Trey Lyles', 202329, 'Al-Farouq Aminu', 1, '7:31', 30.5, 3, 22, 0, 1, 0, 1, 3, 0.333, 1, 2, 0.5, 0, 0, 0, 0, 0, 0, 0, 451.1]\n"
     ]
    }
   ],
   "source": [
    "print(nested[0]['resultSets'][0]['headers'])\n",
    "print('\\n')\n",
    "print(nested[0]['resultSets'][0]['rowSet'])\n",
    "print('\\n')\n",
    "print(nested[0]['resultSets'][0]['rowSet'][0])\n",
    "print('\\n')\n",
    "print(nested[0]['resultSets'][0]['rowSet'][1])"
   ]
  },
  {
   "cell_type": "markdown",
   "id": "082d3dfe",
   "metadata": {},
   "source": [
    "## For simplicity, we are going to work with the nested[0]['resultSets'][0] list, which gives us a dictionary having three keys, as we saw above.\n",
    "\n",
    "### This will allow us to address the 'rowSet' dictionary key for its values."
   ]
  },
  {
   "cell_type": "markdown",
   "id": "88a46f3a",
   "metadata": {},
   "source": [
    "## Exercise 0\n",
    "\n",
    "### Who are the players that a player guarded during the season?\n",
    "\n",
    "#### In other words, what are the OFF_PLAYER_NAME's for the DEF_PLAYER_NAME?\n",
    "\n",
    "### Requirement:  Output a list of the names of the players he guarded.\n"
   ]
  },
  {
   "cell_type": "code",
   "execution_count": 14,
   "id": "96614075",
   "metadata": {
    "scrolled": true
   },
   "outputs": [
    {
     "name": "stdout",
     "output_type": "stream",
     "text": [
      "['Rui Hachimura', 'Trey Lyles', 'OG Anunoby', 'Kevin Love']\n",
      "['Nikola Vucevic', 'Joel Embiid', 'John Collins', 'Myles Turner']\n",
      "['Lauri Markkanen', 'Kevin Love', 'Myles Turner', 'Ben Simmons']\n"
     ]
    }
   ],
   "source": [
    "def players_guarded(var_stats, DEF_PLAYER_NAME):\n",
    "    \n",
    "    # create the list to return\n",
    "    ret_list = []\n",
    "#     print(var_stats)\n",
    "#     print('\\n')\n",
    "#     print(DEF_PLAYER_NAME)\n",
    "    \n",
    "    for k,v in var_stats.items():\n",
    "        if k == 'rowSet':\n",
    "            # remember that v is a list of lists\n",
    "#             print(v[0])\n",
    "            for index in v:  # loops over the higher level list\n",
    "#                 print(index[2])\n",
    "                # index is the list within the higher level list\n",
    "                ret_list.append(index[2])\n",
    "    \n",
    "    return ret_list\n",
    "\n",
    "# test code\n",
    "list0 = players_guarded(nested[0]['resultSets'][0], 'Al-Farouq Aminu')\n",
    "print(list0)\n",
    "list0 = players_guarded(nested[1]['resultSets'][0], 'Bam Adebayo')\n",
    "print(list0)\n",
    "list0 = players_guarded(nested[6]['resultSets'][0], 'Giannis Antetokounmpo')\n",
    "print(list0)"
   ]
  },
  {
   "cell_type": "markdown",
   "id": "4bcaadae",
   "metadata": {},
   "source": [
    "## Exercise 1\n",
    "\n",
    "### Now let's make this a little more useful, asking the same question of who are the players guarded during the season.\n",
    "\n",
    "### Requirement:  Output a dictionary with the key being the defensive player name and the value being a list of the offensive players he guarded."
   ]
  },
  {
   "cell_type": "code",
   "execution_count": 15,
   "id": "2fff139e",
   "metadata": {},
   "outputs": [
    {
     "name": "stdout",
     "output_type": "stream",
     "text": [
      "{'Al-Farouq Aminu': ['Rui Hachimura', 'Trey Lyles', 'OG Anunoby', 'Kevin Love']}\n",
      "{'Bam Adebayo': ['Nikola Vucevic', 'Joel Embiid', 'John Collins', 'Myles Turner']}\n",
      "{'Giannis Antetokounmpo': ['Lauri Markkanen', 'Kevin Love', 'Myles Turner', 'Ben Simmons']}\n"
     ]
    }
   ],
   "source": [
    "def players_guarded_dict(var_stats, DEF_PLAYER_NAME):\n",
    "\n",
    "# Same as above************************\n",
    "    # create the list\n",
    "    guarded_list = []\n",
    "#     print(var_stats)\n",
    "    \n",
    "    # loop over the statistics dict\n",
    "    # this is the same as the above\n",
    "    for k,v in var_stats.items():\n",
    "        if k == 'rowSet':\n",
    "            # remember that v is a list of lists\n",
    "#             print(v[0])\n",
    "            for index in v:  # loops over the higher level list\n",
    "        #         print(index[2])\n",
    "                # index is the list within the higher level list\n",
    "                guarded_list.append(index[2])\n",
    "# *************************************\n",
    "\n",
    "# This is new************************** \n",
    "    # use default dict\n",
    "    from collections import defaultdict\n",
    "    ret_dict = defaultdict()\n",
    "    # now put it all into the default dictionary\n",
    "    ret_dict[DEF_PLAYER_NAME] = guarded_list\n",
    "    \n",
    "    # make the default dict a regular dict and return\n",
    "    return dict(ret_dict)\n",
    "# **************************************\n",
    "\n",
    "# test code\n",
    "list1 = players_guarded_dict(nested[0]['resultSets'][0], 'Al-Farouq Aminu')\n",
    "print(list1)\n",
    "list1 = players_guarded_dict(nested[1]['resultSets'][0], 'Bam Adebayo')\n",
    "print(list1)\n",
    "list1 = players_guarded_dict(nested[6]['resultSets'][0], 'Giannis Antetokounmpo')\n",
    "print(list1)"
   ]
  },
  {
   "cell_type": "markdown",
   "id": "7695e73e",
   "metadata": {},
   "source": [
    "## Exercise 2\n",
    "\n",
    "### Again, let's make this a little more useful, asking the same question of who are the players guarded during the season. We want to know how many points he allowed to each player during the season.\n",
    "\n",
    "#### Note that this data element is called 'PLAYER_PTS'. Which data element in the list is it?\n",
    "\n",
    "### Requirement:  Output a dictionary with the key being the defensive player name and the value being a list of tuples. The first item of each tuple is the name of the offensive players he guarded, and the second item of the tuple is the number points allowed."
   ]
  },
  {
   "cell_type": "code",
   "execution_count": 16,
   "id": "b94054b1",
   "metadata": {
    "scrolled": false
   },
   "outputs": [
    {
     "name": "stdout",
     "output_type": "stream",
     "text": [
      "{'Al-Farouq Aminu': [('Rui Hachimura', 4), ('Trey Lyles', 3), ('OG Anunoby', 5), ('Kevin Love', 4)]}\n",
      "{'Bam Adebayo': [('Nikola Vucevic', 22), ('Joel Embiid', 31), ('John Collins', 10), ('Myles Turner', 13)]}\n",
      "{'Giannis Antetokounmpo': [('Lauri Markkanen', 11), ('Kevin Love', 23), ('Myles Turner', 5), ('Ben Simmons', 5)]}\n"
     ]
    }
   ],
   "source": [
    "def players_guarded_minutes_dict(var_stats, DEF_PLAYER_NAME):\n",
    "    \n",
    "# Same as above***********************  \n",
    "    # create the list\n",
    "    guarded_list = []\n",
    "#     print(var_stats)\n",
    "# ************************************    \n",
    "\n",
    "\n",
    "# This is new*************************\n",
    "\n",
    "    # loop over the statistics dict\n",
    "    # this is the same as the above\n",
    "    for k,v in var_stats.items():\n",
    "        if k == 'rowSet':\n",
    "            # remember that v is a list of lists\n",
    "#             print(v[0])\n",
    "            for index in v:  # loops over the higher level list\n",
    "        #         print(index[2])\n",
    "                # index is the list within the higher level list\n",
    "            # This is the new part********************\n",
    "                guarded_list.append((index[2],index[8]))\n",
    "            # ****************************************\n",
    "\n",
    "# ************************************\n",
    "\n",
    "# Same as above************************\n",
    "    # use default dict\n",
    "    from collections import defaultdict\n",
    "    ret_dict = defaultdict()\n",
    "    # now put it all into the default dictionary\n",
    "    ret_dict[DEF_PLAYER_NAME] = guarded_list\n",
    "    \n",
    "    # make the default dict a regular dict and return\n",
    "    return dict(ret_dict)\n",
    "# *************************************\n",
    "\n",
    "# test code\n",
    "list2 = players_guarded_minutes_dict(nested[0]['resultSets'][0], 'Al-Farouq Aminu')\n",
    "print(list2)\n",
    "list2 = players_guarded_minutes_dict(nested[1]['resultSets'][0], 'Bam Adebayo')\n",
    "print(list2)\n",
    "list2 = players_guarded_minutes_dict(nested[6]['resultSets'][0], 'Giannis Antetokounmpo')\n",
    "print(list2)"
   ]
  },
  {
   "cell_type": "markdown",
   "id": "93865d15",
   "metadata": {},
   "source": [
    "## Exercise 3\n",
    "\n",
    "### Again, let's make this a little more useful, asking the same question of who are the players guarded during the season. We want to know how many pointed he allowed to each player during the season, and who scored the least to most..\n",
    "\n",
    "### Requirement:  Output a dictionary with the key being the defensive player name and the value being a list of tuples. The first item of each tuple is the name of the offensive players he guarded, and the second item of the tuple is the number of points allowed. The list of tuples should be sorted by the number of points allowed, from most to least. If the points are the same, then sort by the name in alphabetical order."
   ]
  },
  {
   "cell_type": "code",
   "execution_count": 17,
   "id": "88d1dcd8",
   "metadata": {},
   "outputs": [
    {
     "name": "stdout",
     "output_type": "stream",
     "text": [
      "{'Al-Farouq Aminu': [('OG Anunoby', 5), ('Kevin Love', 4), ('Rui Hachimura', 4), ('Trey Lyles', 3)]}\n",
      "{'Bam Adebayo': [('Joel Embiid', 31), ('Nikola Vucevic', 22), ('Myles Turner', 13), ('John Collins', 10)]}\n",
      "{'Giannis Antetokounmpo': [('Kevin Love', 23), ('Lauri Markkanen', 11), ('Ben Simmons', 5), ('Myles Turner', 5)]}\n"
     ]
    }
   ],
   "source": [
    "def players_guarded_minutes_dict_sorted(var_stats, DEF_PLAYER_NAME):\n",
    "    \n",
    "# Same as above***********************  \n",
    "    # create the list\n",
    "    guarded_list = []\n",
    "#     print(var_stats)\n",
    "\n",
    "    # loop over the statistics dict\n",
    "    # this is the same as the above\n",
    "    for k,v in var_stats.items():\n",
    "        if k == 'rowSet':\n",
    "            # remember that v is a list of lists\n",
    "#             print(v[0])\n",
    "            for index in v:  # loops over the higher level list\n",
    "                guarded_list.append((index[2],index[8]))\n",
    "\n",
    "# ************************************\n",
    "\n",
    "# Sort the list of tuples, this is new*******\n",
    "# https://www.geeksforgeeks.org/python-mutiple-column-sort-in-tuples/\n",
    "# https://www.geeksforgeeks.org/python-program-to-sort-a-list-of-tuples-by-second-item/\n",
    "    guarded_list = sorted(guarded_list, key = lambda x: (-x[1], x[0]))\n",
    "\n",
    "\n",
    "# *******************************************\n",
    "\n",
    "# Same as above************************\n",
    "    # use default dict\n",
    "    from collections import defaultdict\n",
    "    ret_dict = defaultdict()\n",
    "    # now put it all into the default dictionary\n",
    "    ret_dict[DEF_PLAYER_NAME] = guarded_list\n",
    "    \n",
    "    # make the default dict a regular dict and return\n",
    "    return dict(ret_dict)\n",
    "# *************************************\n",
    "\n",
    "# test code\n",
    "list2 = players_guarded_minutes_dict_sorted(nested[0]['resultSets'][0], 'Al-Farouq Aminu')\n",
    "print(list2)\n",
    "list2 = players_guarded_minutes_dict_sorted(nested[1]['resultSets'][0], 'Bam Adebayo')\n",
    "print(list2)\n",
    "list2 = players_guarded_minutes_dict_sorted(nested[6]['resultSets'][0], 'Giannis Antetokounmpo')\n",
    "print(list2)"
   ]
  },
  {
   "cell_type": "code",
   "execution_count": null,
   "id": "e1ba3d5e",
   "metadata": {},
   "outputs": [],
   "source": []
  }
 ],
 "metadata": {
  "kernelspec": {
   "display_name": "Python 3 (ipykernel)",
   "language": "python",
   "name": "python3"
  },
  "language_info": {
   "codemirror_mode": {
    "name": "ipython",
    "version": 3
   },
   "file_extension": ".py",
   "mimetype": "text/x-python",
   "name": "python",
   "nbconvert_exporter": "python",
   "pygments_lexer": "ipython3",
   "version": "3.9.13"
  }
 },
 "nbformat": 4,
 "nbformat_minor": 5
}
